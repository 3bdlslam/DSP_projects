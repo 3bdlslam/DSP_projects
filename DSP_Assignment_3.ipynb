{
 "cells": [
  {
   "cell_type": "markdown",
   "metadata": {},
   "source": [
    "<center> <h1>Assignment #3</h1> </center>\n",
    "<center> <h2>DSP</h2> </center>\n"
   ]
  },
  {
   "cell_type": "markdown",
   "metadata": {},
   "source": [
    "| Name | Section | B.N. |\n",
    "|: ----------- | :--- | :--- |\n",
    "| Ahmed Abdelsalam AbdelKhalek | 1 | 16 |\n",
    "| Omar Magdy Mohammed Ahmed | 3 | 10 |\n",
    "| Amr Adel Ahmed Okasha | 3 | 13 |"
   ]
  },
  {
   "cell_type": "code",
   "execution_count": 45,
   "metadata": {},
   "outputs": [],
   "source": [
    "from skimage.io import imread, imshow\n",
    "from skimage.filters import prewitt_h,prewitt_v\n",
    "import os\n",
    "from os import listdir\n",
    "import numpy as np \n",
    "from matplotlib import pyplot as plt\n",
    "import pandas as pd    \n",
    "from scipy.fft import dct\n",
    "from sklearn.decomposition import PCA\n",
    "import numpy as np\n",
    "from sklearn.metrics import accuracy_score\n",
    "from scipy.stats import mode\n",
    "from scipy.fft import dct\n",
    "from sklearn.decomposition import PCA\n",
    "import numpy as np\n",
    "from sklearn.cluster import KMeans\n",
    "import numpy as np\n",
    "from sklearn import mixture\n",
    "from sklearn import svm\n",
    "from skimage.feature import hog\n",
    "from skimage import data, exposure\n",
    "import tensorflow as tf\n",
    "import cv2\n",
    "import time\n",
    "from sklearn.metrics import confusion_matrix\n"
   ]
  },
  {
   "cell_type": "markdown",
   "metadata": {},
   "source": [
    "# 1. Data Loading"
   ]
  },
  {
   "cell_type": "code",
   "execution_count": 46,
   "metadata": {},
   "outputs": [
    {
     "name": "stdout",
     "output_type": "stream",
     "text": [
      "(10000, 28, 28)\n",
      "(2000, 28, 28)\n"
     ]
    }
   ],
   "source": [
    "x_tst=[]\n",
    "y_tst=[]                      \n",
    "#TST_PATH = r'D:\\4th year\\4th_2ndterm\\DSP\\projects\\Assignment 2\\Reduced MNIST Data\\Reduced Testing data' ## windows\n",
    "TST_PATH = r'Reduced MNIST Data/Reduced Testing data' ## linux\n",
    "\n",
    "for digit in listdir(TST_PATH):\n",
    "    #for ex in listdir(TST_PATH+'\\\\'+digit):\n",
    "        #x_tst.append(imread(TST_PATH+'\\\\'+digit+'\\\\'+ex))\n",
    "    for ex in listdir(TST_PATH+'/'+digit):\n",
    "        x_tst.append(imread(TST_PATH+'/'+digit+'/'+ex))\n",
    "        y_tst.append(digit)\n",
    "x_tst=np.asarray(x_tst)\n",
    "y_tst=np.asarray(y_tst)\n",
    "\n",
    "x_train=[]\n",
    "y_train=[]\n",
    "#TRAIN_PATH = r'D:\\4th year\\4th_2ndterm\\DSP\\projects\\Assignment 2\\Reduced MNIST Data\\Reduced Trainging data' ## windows\n",
    "TRAIN_PATH = r'Reduced MNIST Data/Reduced Trainging data' ## linux\n",
    "for digit in listdir(TRAIN_PATH):\n",
    "    #for ex in listdir(TRAIN_PATH+'\\\\'+digit):\n",
    "        #x_train.append(imread(TRAIN_PATH+'\\\\'+digit+'\\\\'+ex))\n",
    "    for ex in listdir(TRAIN_PATH+'/'+digit):\n",
    "        x_train.append(imread(TRAIN_PATH+'/'+digit+'/'+ex))\n",
    "        y_train.append(digit)\n",
    "x_train=np.asarray(x_train).reshape((10000,28,28))\n",
    "print(x_train.shape) \n",
    "x_tst=np.asarray(x_tst).reshape((2000,28,28))\n",
    "print(x_tst.shape)\n",
    "y_train=np.asarray(y_train).astype(int)\n",
    "y_tst=np.asarray(y_tst).astype(int)"
   ]
  },
  {
   "cell_type": "markdown",
   "metadata": {},
   "source": [
    "# 2. Feature extraction\n",
    "## 2.1 DCT Feature extraction"
   ]
  },
  {
   "cell_type": "code",
   "execution_count": 51,
   "metadata": {},
   "outputs": [
    {
     "name": "stdout",
     "output_type": "stream",
     "text": [
      "(10000, 28, 28)\n",
      "(10000, 180)\n",
      "(2000, 28, 28)\n",
      "(2000, 180)\n",
      "1.9471726417541504\n"
     ]
    }
   ],
   "source": [
    "t=time.time()\n",
    "dct_train_data = dct(dct(x_train, axis=1), axis=2)\n",
    "print(dct_train_data.shape)\n",
    "\n",
    "rows=28\n",
    "columns=28\n",
    "dct_train_data_compressed=np.empty((10000,180))\n",
    "solution=[]\n",
    "for k in range(10000):    \n",
    "    solution=[]\n",
    "    for i in range(rows):\n",
    "        for j in range(columns):\n",
    "            if((i+j) < 19):\n",
    "                solution.append(dct_train_data[k, i, j])\n",
    "    dct_train_data_compressed[k]=np.asarray(solution[:-10])\n",
    "t_elapsed=time.time()-t\n",
    "print(dct_train_data_compressed.shape)\n",
    "\n",
    "dct_tst_data = dct(dct(x_tst, axis=1), axis=2)\n",
    "print(dct_tst_data.shape)\n",
    "dct_tst_data_compressed=np.empty((2000,180))\n",
    "for k in range(2000):    \n",
    "    solution=[]\n",
    "    for i in range(rows):\n",
    "        for j in range(columns):\n",
    "            if((i+j) < 19):\n",
    "                solution.append(dct_tst_data[k, i, j])\n",
    "    dct_tst_data_compressed[k]=np.asarray(solution[:-10])\n",
    "print(dct_tst_data_compressed.shape)\n",
    "\n",
    "x_train_dct=dct_train_data_compressed\n",
    "x_tst_dct=dct_tst_data_compressed\n",
    "print(t_elapsed)\n"
   ]
  },
  {
   "cell_type": "markdown",
   "metadata": {},
   "source": [
    "## 2.2 PCA Feature extraction\n"
   ]
  },
  {
   "cell_type": "code",
   "execution_count": 48,
   "metadata": {},
   "outputs": [
    {
     "name": "stdout",
     "output_type": "stream",
     "text": [
      "13.313722372055054\n"
     ]
    },
    {
     "data": {
      "text/plain": [
       "0.9524617477699258"
      ]
     },
     "execution_count": 48,
     "metadata": {},
     "output_type": "execute_result"
    }
   ],
   "source": [
    "pca_breast = PCA(n_components=270)\n",
    "t=time.time()\n",
    "x_train_pca = pca_breast.fit_transform(x_train.reshape((10000,784)))\n",
    "t_elapsed=time.time()-t\n",
    "x_tst_pca = pca_breast.transform(x_tst.reshape((2000,784)))\n",
    "print(t_elapsed)\n",
    "sum(pca_breast.explained_variance_ratio_)\n"
   ]
  },
  {
   "cell_type": "markdown",
   "metadata": {},
   "source": [
    "## 2.3 HOG Feature extraction"
   ]
  },
  {
   "cell_type": "code",
   "execution_count": 49,
   "metadata": {},
   "outputs": [
    {
     "name": "stdout",
     "output_type": "stream",
     "text": [
      "25.643143892288208\n"
     ]
    }
   ],
   "source": [
    "def HOG_(images):\n",
    "    feature_array=[]\n",
    "    for image in images:\n",
    "        ret, bw_img = cv2.threshold(image,127,255,cv2.THRESH_BINARY)\n",
    "        features, hog_img = hog(bw_img, orientations=8, pixels_per_cell=(6, 6), visualize=True, multichannel=False)\n",
    "\n",
    "        feature_array.append(features)\n",
    "    feature_array=np.asarray(feature_array)\n",
    "    \n",
    "\n",
    "    return feature_array\n",
    "x_tst_edge=HOG_(x_tst)\n",
    "t=time.time()\n",
    "x_train_edge=HOG_(x_train)\n",
    "t_elapsed=time.time()-t\n",
    "print(t_elapsed)"
   ]
  },
  {
   "cell_type": "markdown",
   "metadata": {},
   "source": [
    "# 3. Classifiers\n",
    "## 3.1 K-Mean Classifier"
   ]
  },
  {
   "cell_type": "code",
   "execution_count": 6,
   "metadata": {},
   "outputs": [],
   "source": [
    "def KM(X,Y,Xt,Yt,n):\n",
    "    \n",
    "    t = time.time()\n",
    "\n",
    "    kmeans = KMeans(n_clusters=n, random_state=0).fit(X)\n",
    "    t_elapsed=time.time()-t\n",
    "    classes=kmeans.labels_\n",
    "    \n",
    "    labels = np.zeros_like(classes)\n",
    "    translation=np.zeros((n,1))\n",
    "    for i in range(n):\n",
    "        mask = (classes == i)\n",
    "        labels[mask] = mode(Y[mask])[0]\n",
    "        translation[i]=mode(Y[mask])[0]\n",
    "    \n",
    "    prediction =kmeans.predict(Xt)\n",
    "    for i in range(len(prediction)):\n",
    "        prediction[i]=translation[prediction[i]]\n",
    "     \n",
    "    accuarcy=accuracy_score(prediction, Yt)\n",
    "    train_accuarcy=accuracy_score(labels, Y)\n",
    "    \n",
    "    return train_accuarcy,accuarcy,t_elapsed"
   ]
  },
  {
   "cell_type": "code",
   "execution_count": 7,
   "metadata": {},
   "outputs": [
    {
     "name": "stdout",
     "output_type": "stream",
     "text": [
      "KM 10\n",
      "[pca_train, pca_tst,Time_elapsed] [0.6359, 0.6675, 5.390612602233887]\n",
      "[dct_train, dct_tst,Time_elapsed] [0.6309, 0.67, 10.567110300064087]\n",
      "[hog_train, hog_tst,Time_elapsed] [0.6885, 0.7045, 16.68747639656067]\n",
      "KM 40\n",
      "[pca_train, pca_tst,Time_elapsed] [0.8322, 0.8695, 4.5403077602386475]\n",
      "[dct_train, dct_tst,Time_elapsed] [0.7986, 0.836, 7.322735786437988]\n",
      "[hog_train, hog_tst,Time_elapsed] [0.8787, 0.894, 11.508890628814697]\n",
      "KM 160\n",
      "[pca_train, pca_tst,Time_elapsed] [0.9073, 0.9415, 8.03381872177124]\n",
      "[dct_train, dct_tst,Time_elapsed] [0.899, 0.924, 9.84739089012146]\n",
      "[hog_train, hog_tst,Time_elapsed] [0.9184, 0.934, 19.377877950668335]\n"
     ]
    }
   ],
   "source": [
    "[acc_KM_10_pca_train,acc_KM_10_pca_tst,time_KM_10_pca_train]=KM(x_train_pca,y_train,x_tst_pca,y_tst,10) \n",
    "[acc_KM_40_pca_train,acc_KM_40_pca_tst,time_KM_40_pca_train]=KM(x_train_pca,y_train,x_tst_pca,y_tst,40)\n",
    "[acc_KM_160_pca_train,acc_KM_160_pca_tst,time_KM_160_pca_train]=KM(x_train_pca,y_train,x_tst_pca,y_tst,160)\n",
    "\n",
    "[acc_KM_10_dct_train,acc_KM_10_dct_tst,time_KM_10_dct_train]=KM(x_train_dct,y_train,x_tst_dct,y_tst,10) \n",
    "[acc_KM_40_dct_train,acc_KM_40_dct_tst,time_KM_40_dct_train]=KM(x_train_dct,y_train,x_tst_dct,y_tst,40)\n",
    "[acc_KM_160_dct_train,acc_KM_160_dct_tst,time_KM_160_dct_train]=KM(x_train_dct,y_train,x_tst_dct,y_tst,160)\n",
    "\n",
    "[acc_KM_10_edge_train,acc_KM_10_edge_tst,time_KM_10_edge_train]=KM(x_train_edge,y_train,x_tst_edge,y_tst,10) \n",
    "[acc_KM_40_edge_train,acc_KM_40_edge_tst,time_KM_40_edge_train]=KM(x_train_edge,y_train,x_tst_edge,y_tst,40) \n",
    "[acc_KM_160_edge_train,acc_KM_160_edge_tst,time_KM_160_edge_train]=KM(x_train_edge,y_train,x_tst_edge,y_tst,160) \n",
    "\n",
    "print('KM 10')\n",
    "print('[pca_train, pca_tst,Time_elapsed]',[acc_KM_10_pca_train,acc_KM_10_pca_tst,time_KM_10_pca_train])\n",
    "print('[dct_train, dct_tst,Time_elapsed]',[acc_KM_10_dct_train,acc_KM_10_dct_tst,time_KM_40_pca_train])\n",
    "print('[hog_train, hog_tst,Time_elapsed]',[acc_KM_10_edge_train,acc_KM_10_edge_tst,time_KM_160_pca_train])\n",
    "\n",
    "print('KM 40')\n",
    "print('[pca_train, pca_tst,Time_elapsed]',[acc_KM_40_pca_train,acc_KM_40_pca_tst,time_KM_10_dct_train])\n",
    "print('[dct_train, dct_tst,Time_elapsed]',[acc_KM_40_dct_train,acc_KM_40_dct_tst,time_KM_40_dct_train])\n",
    "print('[hog_train, hog_tst,Time_elapsed]',[acc_KM_40_edge_train,acc_KM_40_edge_tst,time_KM_160_dct_train])\n",
    "\n",
    "print('KM 160')\n",
    "print('[pca_train, pca_tst,Time_elapsed]',[acc_KM_160_pca_train,acc_KM_160_pca_tst,time_KM_10_edge_train])\n",
    "print('[dct_train, dct_tst,Time_elapsed]',[acc_KM_160_dct_train,acc_KM_160_dct_tst,time_KM_40_edge_train])\n",
    "print('[hog_train, hog_tst,Time_elapsed]',[acc_KM_160_edge_train,acc_KM_160_edge_tst,time_KM_160_edge_train])\n"
   ]
  },
  {
   "cell_type": "markdown",
   "metadata": {},
   "source": [
    "## 3.2 GMM Classifier"
   ]
  },
  {
   "cell_type": "code",
   "execution_count": 8,
   "metadata": {},
   "outputs": [
    {
     "name": "stdout",
     "output_type": "stream",
     "text": [
      "step\n",
      "step\n",
      "step\n",
      "step\n",
      "step\n",
      "step\n",
      "step\n",
      "step\n",
      "GMM 10\n",
      "[pca_train, pca_tst,Time_elapsed] [0.6716, 0.6645, 112.96158790588379]\n",
      "[dct_train, dct_tst,Time_elapsed] [0.5122, 0.542, 54.96233606338501]\n",
      "[hog_train, hog_tst,Time_elapsed] [0.5417, 0.5205, 231.26625418663025]\n",
      "GMM 40\n",
      "[pca_train, pca_tst,Time_elapsed] [0.8309, 0.3515, 114.95116305351257]\n",
      "[dct_train, dct_tst,Time_elapsed] [0.8049, 0.739, 182.71112275123596]\n",
      "[hog_train, hog_tst,Time_elapsed] [0.8662, 0.8475, 185.6439332962036]\n",
      "GMM 160\n",
      "[pca_train, pca_tst,Time_elapsed] [0.9113, 0.9275, 133.89105892181396]\n",
      "[dct_train, dct_tst,Time_elapsed] [0.904, 0.181, 582.4952161312103]\n",
      "[hog_train, hog_tst,Time_elapsed] [0.9143, 0.745, 917.7835614681244]\n"
     ]
    }
   ],
   "source": [
    "def GM(X,Y,Xt,Yt,n):\n",
    "    \n",
    "    t = time.time()\n",
    "\n",
    "    gmm = mixture.GaussianMixture(n_components=n).fit(X)\n",
    "    t_elapsed=time.time()-t\n",
    "    classes=gmm.predict(X)\n",
    "\n",
    "    labels = np.zeros_like(classes)\n",
    "    translation=np.zeros((n,1))\n",
    "    for i in range(n):\n",
    "        mask = (classes == i)\n",
    "        labels[mask] = mode(Y[mask])[0]\n",
    "        translation[i]=mode(Y[mask])[0]    \n",
    "    \n",
    "    prediction =gmm.predict(Xt)\n",
    "    for i in range(len(prediction)):\n",
    "        prediction[i]=translation[prediction[i]]\n",
    "    \n",
    "    accuarcy=accuracy_score(prediction, Yt)\n",
    "    train_accuarcy=accuracy_score(labels, Y)\n",
    "    \n",
    "    return train_accuarcy,accuarcy,t_elapsed\n",
    "\n",
    "[acc_GMM_10_pca_train,acc_GMM_10_pca_tst,time_GMM_10_pca_train]=GM(x_train_pca,y_train,x_tst_pca,y_tst,10) \n",
    "print('step')\n",
    "[acc_GMM_40_pca_train,acc_GMM_40_pca_tst,time_GMM_40_pca_train]=GM(x_train_pca,y_train,x_tst_pca,y_tst,40)\n",
    "print('step')\n",
    "[acc_GMM_160_pca_train,acc_GMM_160_pca_tst,time_GMM_160_pca_train]=GM(x_train_pca,y_train,x_tst_pca,y_tst,160)\n",
    "print('step')\n",
    "\n",
    "[acc_GMM_10_dct_train,acc_GMM_10_dct_tst,time_GMM_10_dct_train]=GM(x_train_dct,y_train,x_tst_dct,y_tst,10) \n",
    "print('step')\n",
    "[acc_GMM_40_dct_train,acc_GMM_40_dct_tst,time_GMM_40_dct_train]=GM(x_train_dct,y_train,x_tst_dct,y_tst,40)\n",
    "print('step')\n",
    "[acc_GMM_160_dct_train,acc_GMM_160_dct_tst,time_GMM_160_dct_train]=GM(x_train_dct,y_train,x_tst_dct,y_tst,160)\n",
    "print('step')\n",
    "\n",
    "[acc_GMM_10_edge_train,acc_GMM_10_edge_tst,time_GMM_10_edge_train]=GM(x_train_edge,y_train,x_tst_edge,y_tst,10)\n",
    "print('step')\n",
    "[acc_GMM_40_edge_train,acc_GMM_40_edge_tst,time_GMM_40_edge_train]=GM(x_train_edge,y_train,x_tst_edge,y_tst,40) \n",
    "print('step')\n",
    "[acc_GMM_160_edge_train,acc_GMM_160_edge_tst,time_GMM_160_edge_train]=GM(x_train_edge,y_train,x_tst_edge,y_tst,160) \n",
    "\n",
    "print('GMM 10')\n",
    "print('[pca_train, pca_tst,Time_elapsed]',[acc_GMM_10_pca_train,acc_GMM_10_pca_tst,time_GMM_10_pca_train])\n",
    "print('[dct_train, dct_tst,Time_elapsed]',[acc_GMM_10_dct_train,acc_GMM_10_dct_tst,time_GMM_40_pca_train])\n",
    "print('[hog_train, hog_tst,Time_elapsed]',[acc_GMM_10_edge_train,acc_GMM_10_edge_tst,time_GMM_160_pca_train])\n",
    "\n",
    "print('GMM 40')\n",
    "print('[pca_train, pca_tst,Time_elapsed]',[acc_GMM_40_pca_train,acc_GMM_40_pca_tst,time_GMM_10_dct_train])\n",
    "print('[dct_train, dct_tst,Time_elapsed]',[acc_GMM_40_dct_train,acc_GMM_40_dct_tst,time_GMM_40_dct_train])\n",
    "print('[hog_train, hog_tst,Time_elapsed]',[acc_GMM_40_edge_train,acc_GMM_40_edge_tst,time_GMM_160_dct_train])\n",
    "\n",
    "print('GMM 160')\n",
    "print('[pca_train, pca_tst,Time_elapsed]',[acc_GMM_160_pca_train,acc_GMM_160_pca_tst,time_GMM_10_edge_train])\n",
    "print('[dct_train, dct_tst,Time_elapsed]',[acc_GMM_160_dct_train,acc_GMM_160_dct_tst,time_GMM_40_edge_train])\n",
    "print('[hog_train, hog_tst,Time_elapsed]',[acc_GMM_160_edge_train,acc_GMM_160_edge_tst,time_GMM_160_edge_train])"
   ]
  },
  {
   "cell_type": "markdown",
   "metadata": {},
   "source": [
    "## 3.3 SVM Classifier"
   ]
  },
  {
   "cell_type": "code",
   "execution_count": 11,
   "metadata": {},
   "outputs": [
    {
     "name": "stdout",
     "output_type": "stream",
     "text": [
      "SVM_Linear\n",
      "[pca_train, pca_tst , time_elapsed] [1.0, 0.9365, 1.2775356769561768]\n",
      "[dct_train, dct_tst , time_elapsed] [0.9999, 0.9255, 84.0607213973999]\n",
      "[hog_train, hog_tst , time_elapsed] [0.9653, 0.967, 0.6734473705291748]\n",
      "SVM_RPF\n",
      "[pca_train, pca_tst , time_elapsed] [0.9932, 0.9775, 1.9179656505584717]\n",
      "[dct_train, dct_tst , time_elapsed] [0.9641, 0.9625, 1.1395618915557861]\n",
      "[hog_train, hog_tst , time_elapsed] [0.9764, 0.9745, 1.0660629272460938]\n"
     ]
    }
   ],
   "source": [
    "def SVM(X,Y,Xt,Yt,k):\n",
    "\n",
    "    clf = svm.SVC(kernel=k) # Linear Kernel\n",
    "    t = time.time()\n",
    "    clf.fit(X, Y)\n",
    "    t_elapsed=time.time()-t\n",
    "\n",
    "\n",
    "    labels = clf.predict(X)\n",
    "    y_pred = clf.predict(Xt)\n",
    "        \n",
    "    train_accuarcy = accuracy_score(Y, labels)\n",
    "    accuarcy = accuracy_score(Yt, y_pred)\n",
    "\n",
    "    return train_accuarcy,accuarcy,t_elapsed\n",
    "\n",
    "\n",
    "[acc_SVM_pca_train,acc_SVM_pca_tst,time_SVM_pca_train]=SVM(x_train_pca,y_train,x_tst_pca,y_tst,'linear') \n",
    "[acc_SVM_dct_train,acc_SVM_dct_tst,time_SVM_dct_train]=SVM(x_train_dct,y_train,x_tst_dct,y_tst,'linear') \n",
    "[acc_SVM_edge_train,acc_SVM_edge_tst,time_SVM_edge_train]=SVM(x_train_edge,y_train,x_tst_edge,y_tst,'linear') \n",
    "print('SVM_Linear')\n",
    "print('[pca_train, pca_tst , time_elapsed]',[acc_SVM_pca_train,acc_SVM_pca_tst,time_SVM_pca_train])\n",
    "print('[dct_train, dct_tst , time_elapsed]',[acc_SVM_dct_train,acc_SVM_dct_tst,time_SVM_dct_train])\n",
    "print('[hog_train, hog_tst , time_elapsed]',[acc_SVM_edge_train,acc_SVM_edge_tst,time_SVM_edge_train])\n",
    "\n",
    "[acc_SVM_pca_train_,acc_SVM_pca_tst_,time_SVM_pca_train_]=SVM(x_train_pca,y_train,x_tst_pca,y_tst,'rbf') \n",
    "[acc_SVM_dct_train_,acc_SVM_dct_tst_,time_SVM_dct_train_]=SVM(x_train_dct,y_train,x_tst_dct,y_tst,'rbf') \n",
    "[acc_SVM_edge_train_,acc_SVM_edge_tst_,time_SVM_edge_train_]=SVM(x_train_edge,y_train,x_tst_edge,y_tst,'rbf') \n",
    "print('SVM_RPF')\n",
    "print('[pca_train, pca_tst , time_elapsed]',[acc_SVM_pca_train_,acc_SVM_pca_tst_,time_SVM_pca_train_])\n",
    "print('[dct_train, dct_tst , time_elapsed]',[acc_SVM_dct_train_,acc_SVM_dct_tst_,time_SVM_dct_train_])\n",
    "print('[hog_train, hog_tst , time_elapsed]',[acc_SVM_edge_train_,acc_SVM_edge_tst_,time_SVM_edge_train_])"
   ]
  },
  {
   "cell_type": "markdown",
   "metadata": {},
   "source": [
    "## 3.4 CNN Classifier"
   ]
  },
  {
   "cell_type": "code",
   "execution_count": 16,
   "metadata": {},
   "outputs": [],
   "source": [
    "def Build_model(n=8):\n",
    "    if (n==8):\n",
    "        leNet=tf.keras.models.Sequential()\n",
    "        leNet.add(tf.keras.layers.Conv2D(filters=n, kernel_size=(5,5), padding='same', activation='sigmoid', input_shape=(28, 28, 1)))\n",
    "        leNet.add(tf.keras.layers.AveragePooling2D(strides=2))\n",
    "        leNet.add(tf.keras.layers.Conv2D(filters=16, kernel_size=(5,5), padding='valid', activation='sigmoid'))\n",
    "        leNet.add(tf.keras.layers.AveragePooling2D(strides=2))\n",
    "        leNet.add(tf.keras.layers.Flatten())\n",
    "        leNet.add(tf.keras.layers.Dense(256, activation='sigmoid'))\n",
    "        leNet.add(tf.keras.layers.Dense(84, activation='sigmoid'))\n",
    "        leNet.add(tf.keras.layers.Dense(10, activation='softmax'))\n",
    "    \n",
    "        leNet.compile(\"adam\", \"sparse_categorical_crossentropy\",\n",
    "              metrics=[\"accuracy\"])\n",
    "    else :\n",
    "            leNet=tf.keras.models.Sequential()\n",
    "            leNet.add(tf.keras.layers.Conv2D(filters=n, kernel_size=(5,5), padding='same', activation='relu', input_shape=(28, 28, 1)))\n",
    "            leNet.add(tf.keras.layers.AveragePooling2D(strides=2))\n",
    "            leNet.add(tf.keras.layers.Conv2D(filters=16, kernel_size=(5,5), padding='valid', activation='relu'))\n",
    "            leNet.add(tf.keras.layers.AveragePooling2D(strides=2))\n",
    "            leNet.add(tf.keras.layers.Flatten())\n",
    "            leNet.add(tf.keras.layers.Dense(256, activation='relu'))\n",
    "            leNet.add(tf.keras.layers.Dense(84, activation='relu'))\n",
    "            leNet.add(tf.keras.layers.Dense(10, activation='softmax'))\n",
    "    \n",
    "            leNet.compile(\"adam\", \"sparse_categorical_crossentropy\",\n",
    "              metrics=[\"accuracy\"])\n",
    "            \n",
    "    \n",
    "    return leNet"
   ]
  },
  {
   "cell_type": "code",
   "execution_count": 17,
   "metadata": {},
   "outputs": [
    {
     "name": "stdout",
     "output_type": "stream",
     "text": [
      "Default GPU Device:/device:GPU:0\n"
     ]
    }
   ],
   "source": [
    "if tf.test.gpu_device_name(): \n",
    "\n",
    "    print('Default GPU Device:{}'.format(tf.test.gpu_device_name()))\n",
    "\n",
    "else:\n",
    "\n",
    "   print(\"Please install GPU version of TF\")"
   ]
  },
  {
   "cell_type": "code",
   "execution_count": 42,
   "metadata": {},
   "outputs": [],
   "source": [
    "def run_model(model,X,Y,Xt,Yt,batch,epochs):\n",
    "    t = time.time()\n",
    "    model.fit(X, Y,batch_size=batch,epochs=epochs) #,validation_split = 0.2)\n",
    "    t_elapsed=time.time()-t\n",
    "\n",
    "    train_accuarcy=model.evaluate(X, Y,batch_size=1)\n",
    "    tst_accuarcy=model.evaluate(Xt, Yt,batch_size=1) \n",
    "    y_predicted=model.predict(Xt)\n",
    "    return train_accuarcy, tst_accuarcy, t_elapsed, y_predicted "
   ]
  },
  {
   "cell_type": "markdown",
   "metadata": {},
   "source": [
    "### 3.4.1 Single batch CNN\n",
    "> takes the same time as btach normalized with worse accuracy"
   ]
  },
  {
   "cell_type": "code",
   "execution_count": 43,
   "metadata": {
    "scrolled": false
   },
   "outputs": [
    {
     "name": "stdout",
     "output_type": "stream",
     "text": [
      "10000/10000 [==============================] - 24s 2ms/step - loss: 0.3762 - accuracy: 0.8966\n",
      "10000/10000 [==============================] - 14s 1ms/step - loss: 0.2402 - accuracy: 0.9317\n",
      "2000/2000 [==============================] - 3s 1ms/step - loss: 0.2388 - accuracy: 0.9375\n",
      "[LeNet6_train, LeNet6_tst , time_elapsed] [[0.24020837247371674, 0.9316999912261963], [0.23875941336154938, 0.9375], 24.29838800430298]\n",
      "10000/10000 [==============================] - 25s 2ms/step - loss: 0.5265 - accuracy: 0.8298\n",
      "10000/10000 [==============================] - 14s 1ms/step - loss: 0.1856 - accuracy: 0.9427\n",
      "2000/2000 [==============================] - 3s 1ms/step - loss: 0.1560 - accuracy: 0.9490\n",
      "[LeNet8_train, LeNet8_tst , time_elapsed] [[0.1855607032775879, 0.9427000284194946], [0.15602532029151917, 0.9490000009536743], 24.74492120742798]\n"
     ]
    }
   ],
   "source": [
    "lenet_6= Build_model(n=6)\n",
    "[acc_LeNet6_train,acc_LeNet6_tst,time_LeNet6, y_predicted]=run_model(lenet_6,x_train.reshape(10000,28,28,1),y_train,x_tst.reshape(2000,28,28,1),y_tst,1,1)\n",
    "print('[LeNet6_train, LeNet6_tst , time_elapsed]',[acc_LeNet6_train,acc_LeNet6_tst,time_LeNet6])\n",
    "\n",
    "lenet_8= Build_model(n=8)\n",
    "[acc_LeNet8_train,acc_LeNet8_tst,time_LeNet8, y_predicted_8]=run_model(lenet_8,x_train.reshape(10000,28,28,1),y_train,x_tst.reshape(2000,28,28,1),y_tst,1,1)\n",
    "print('[LeNet8_train, LeNet8_tst , time_elapsed]',[acc_LeNet8_train,acc_LeNet8_tst,time_LeNet8])"
   ]
  },
  {
   "cell_type": "markdown",
   "metadata": {},
   "source": [
    "### 3.4.2 20-batch 20-epoch CNN\n",
    "> takes the same time as single-btach tranining with better accuracy"
   ]
  },
  {
   "cell_type": "code",
   "execution_count": 44,
   "metadata": {},
   "outputs": [
    {
     "name": "stdout",
     "output_type": "stream",
     "text": [
      "Epoch 1/20\n",
      "500/500 [==============================] - 2s 2ms/step - loss: 0.5430 - accuracy: 0.8795\n",
      "Epoch 2/20\n",
      "500/500 [==============================] - 1s 2ms/step - loss: 0.1220 - accuracy: 0.9613\n",
      "Epoch 3/20\n",
      "500/500 [==============================] - 1s 2ms/step - loss: 0.0783 - accuracy: 0.9751\n",
      "Epoch 4/20\n",
      "500/500 [==============================] - 1s 2ms/step - loss: 0.0614 - accuracy: 0.9804\n",
      "Epoch 5/20\n",
      "500/500 [==============================] - 1s 2ms/step - loss: 0.0517 - accuracy: 0.9815\n",
      "Epoch 6/20\n",
      "500/500 [==============================] - 1s 2ms/step - loss: 0.0515 - accuracy: 0.9823\n",
      "Epoch 7/20\n",
      "500/500 [==============================] - 1s 2ms/step - loss: 0.0333 - accuracy: 0.9896\n",
      "Epoch 8/20\n",
      "500/500 [==============================] - 1s 2ms/step - loss: 0.0448 - accuracy: 0.9858\n",
      "Epoch 9/20\n",
      "500/500 [==============================] - 1s 2ms/step - loss: 0.0421 - accuracy: 0.9852\n",
      "Epoch 10/20\n",
      "500/500 [==============================] - 1s 2ms/step - loss: 0.0312 - accuracy: 0.9902\n",
      "Epoch 11/20\n",
      "500/500 [==============================] - 1s 2ms/step - loss: 0.0406 - accuracy: 0.9873\n",
      "Epoch 12/20\n",
      "500/500 [==============================] - 1s 2ms/step - loss: 0.0336 - accuracy: 0.9898\n",
      "Epoch 13/20\n",
      "500/500 [==============================] - 1s 2ms/step - loss: 0.0175 - accuracy: 0.9954\n",
      "Epoch 14/20\n",
      "500/500 [==============================] - 1s 2ms/step - loss: 0.0302 - accuracy: 0.9911\n",
      "Epoch 15/20\n",
      "500/500 [==============================] - 1s 2ms/step - loss: 0.0285 - accuracy: 0.9911\n",
      "Epoch 16/20\n",
      "500/500 [==============================] - 1s 2ms/step - loss: 0.0188 - accuracy: 0.9935\n",
      "Epoch 17/20\n",
      "500/500 [==============================] - 1s 2ms/step - loss: 0.0182 - accuracy: 0.9947\n",
      "Epoch 18/20\n",
      "500/500 [==============================] - 1s 2ms/step - loss: 0.0327 - accuracy: 0.9911\n",
      "Epoch 19/20\n",
      "500/500 [==============================] - 1s 2ms/step - loss: 0.0149 - accuracy: 0.9956\n",
      "Epoch 20/20\n",
      "500/500 [==============================] - 1s 2ms/step - loss: 0.0261 - accuracy: 0.9927\n",
      "10000/10000 [==============================] - 14s 1ms/step - loss: 0.0054 - accuracy: 0.9986\n",
      "2000/2000 [==============================] - 3s 1ms/step - loss: 0.0905 - accuracy: 0.9805\n",
      "[LeNet6_train, LeNet6_tst , time_elapsed] [[0.005397477187216282, 0.9986000061035156], [0.09051161259412766, 0.9804999828338623], 24.165066719055176]\n",
      "Epoch 1/20\n",
      "500/500 [==============================] - 2s 3ms/step - loss: 1.2528 - accuracy: 0.6060\n",
      "Epoch 2/20\n",
      "500/500 [==============================] - 1s 3ms/step - loss: 0.3273 - accuracy: 0.9067\n",
      "Epoch 3/20\n",
      "500/500 [==============================] - 1s 2ms/step - loss: 0.2315 - accuracy: 0.9294\n",
      "Epoch 4/20\n",
      "500/500 [==============================] - 1s 2ms/step - loss: 0.1845 - accuracy: 0.9464\n",
      "Epoch 5/20\n",
      "500/500 [==============================] - 1s 3ms/step - loss: 0.1586 - accuracy: 0.9497\n",
      "Epoch 6/20\n",
      "500/500 [==============================] - 1s 2ms/step - loss: 0.1325 - accuracy: 0.9606\n",
      "Epoch 7/20\n",
      "500/500 [==============================] - 1s 3ms/step - loss: 0.1170 - accuracy: 0.9638\n",
      "Epoch 8/20\n",
      "500/500 [==============================] - 1s 2ms/step - loss: 0.0996 - accuracy: 0.9710\n",
      "Epoch 9/20\n",
      "500/500 [==============================] - 1s 3ms/step - loss: 0.0901 - accuracy: 0.9710\n",
      "Epoch 10/20\n",
      "500/500 [==============================] - 1s 2ms/step - loss: 0.0847 - accuracy: 0.9742\n",
      "Epoch 11/20\n",
      "500/500 [==============================] - 1s 3ms/step - loss: 0.0728 - accuracy: 0.9771\n",
      "Epoch 12/20\n",
      "500/500 [==============================] - 1s 2ms/step - loss: 0.0675 - accuracy: 0.9785\n",
      "Epoch 13/20\n",
      "500/500 [==============================] - 1s 3ms/step - loss: 0.0591 - accuracy: 0.9818\n",
      "Epoch 14/20\n",
      "500/500 [==============================] - 1s 2ms/step - loss: 0.0519 - accuracy: 0.9830\n",
      "Epoch 15/20\n",
      "500/500 [==============================] - 1s 3ms/step - loss: 0.0504 - accuracy: 0.9829\n",
      "Epoch 16/20\n",
      "500/500 [==============================] - 1s 2ms/step - loss: 0.0418 - accuracy: 0.9877\n",
      "Epoch 17/20\n",
      "500/500 [==============================] - 1s 3ms/step - loss: 0.0369 - accuracy: 0.9890\n",
      "Epoch 18/20\n",
      "500/500 [==============================] - 1s 3ms/step - loss: 0.0312 - accuracy: 0.9913\n",
      "Epoch 19/20\n",
      "500/500 [==============================] - 1s 3ms/step - loss: 0.0309 - accuracy: 0.9905\n",
      "Epoch 20/20\n",
      "500/500 [==============================] - 1s 3ms/step - loss: 0.0284 - accuracy: 0.9913\n",
      "10000/10000 [==============================] - 14s 1ms/step - loss: 0.0293 - accuracy: 0.9913\n",
      "2000/2000 [==============================] - 3s 1ms/step - loss: 0.0721 - accuracy: 0.9760\n",
      "[LeNet8_train, LeNet8_tst , time_elapsed] [[0.029307225719094276, 0.9912999868392944], [0.07207553833723068, 0.9760000109672546], 25.649373769760132]\n"
     ]
    }
   ],
   "source": [
    "lenet_6= Build_model(n=6)\n",
    "[acc_LeNet6_train,acc_LeNet6_tst,time_LeNet6, y_predicted]=run_model(lenet_6,x_train.reshape(10000,28,28,1),y_train,x_tst.reshape(2000,28,28,1),y_tst,20,20)\n",
    "print('[LeNet6_train, LeNet6_tst , time_elapsed]',[acc_LeNet6_train,acc_LeNet6_tst,time_LeNet6])\n",
    "\n",
    "lenet_8= Build_model(n=8)\n",
    "[acc_LeNet8_train,acc_LeNet8_tst,time_LeNet8, y_predicted_8]=run_model(lenet_8,x_train.reshape(10000,28,28,1),y_train,x_tst.reshape(2000,28,28,1),y_tst,20,20)\n",
    "print('[LeNet8_train, LeNet8_tst , time_elapsed]',[acc_LeNet8_train,acc_LeNet8_tst,time_LeNet8])"
   ]
  },
  {
   "cell_type": "markdown",
   "metadata": {},
   "source": [
    "# 4 Conclusion"
   ]
  },
  {
   "cell_type": "markdown",
   "metadata": {},
   "source": [
    "## 4.1 Confussion matrix of  CNN "
   ]
  },
  {
   "cell_type": "code",
   "execution_count": 52,
   "metadata": {
    "scrolled": false
   },
   "outputs": [],
   "source": [
    "def conf_mat(test_y,y_pred,label_name):\n",
    "    \n",
    "    if(len(test_y.shape)==2):\n",
    "      test_y=np.asarray([test_y[i].argmax() for i in range(len(test_y))])\n",
    "    \n",
    "    if(len(y_pred.shape)==2):\n",
    "      y_pred=np.asarray([y_pred[i].argmax() for i in range(len(y_pred))])\n",
    "    \n",
    "    c=confusion_matrix(test_y,y_pred)\n",
    "    \n",
    "    \n",
    "    fig = plt.figure(figsize=[22,18])\n",
    "    import seaborn as sns\n",
    "    sns.heatmap(c, annot=True,annot_kws={\"size\": 20},xticklabels=label_name,yticklabels=label_name)\n",
    "\n"
   ]
  },
  {
   "cell_type": "code",
   "execution_count": 53,
   "metadata": {},
   "outputs": [
    {
     "data": {
      "image/png": "[encoded data removed]",
      "text/plain": [
       "<Figure size 1584x1296 with 2 Axes>"
      ]
     },
     "metadata": {
      "needs_background": "light"
     },
     "output_type": "display_data"
    }
   ],
   "source": [
    "label_name=[\"0\",\"1\",\"2\",\"3\",\"4\",\"5\",\"6\",\"7\",\"8\",\"9\"]\n",
    "conf_mat(y_tst, y_predicted ,  label_name)"
   ]
  },
  {
   "cell_type": "markdown",
   "metadata": {},
   "source": [
    "## 4.2 Table Results"
   ]
  },
  {
   "cell_type": "markdown",
   "metadata": {},
   "source": [
    "|  ............    | ............ | ............ | ............   |............ | ............ | ............|............\n",
    "|-|-|-|-|-|-|-|-\n",
    "| .  |  . <td colspan=2>PCA   <td colspan=2>DCT <td colspan=2>HOG\n",
    "    \n",
    "|Classifier|Features|Accuracy|time|Accuracy|time|Accuracy|time\n",
    "|-|-|-|-|-|-|-|-\n",
    "| | | |+13.4| |+1.9| |+25.1\n",
    "|kmeans Clustering| 1| 0.67|5.39|0.6655|10.567|0.7040|16.6874\n",
    "|kmeans Clustering| 4| 0.87|4.54|0.836|7.323|0.894|11.508\n",
    "|kmeans Clustering| 16| 0.94|8.034|0.924|9.847|0.934|19.378\n",
    "|GMM| 1| 0.66|112.96|0.542|56.96|0.5205|231.26\n",
    "|GMM| 4| 0.3515|114.95|0.739|182.71|0.8475|185.64\n",
    "|GMM| 16| 0.9275|133.89|0.181|582.49|0.745|917.78\n",
    "|SVM| Linear| 0.9365|1.14|0.9255|83.79|0.967|0.69\n",
    "|SVM| RBF | 0.9775|1.957|0.9625|1.125|0.9745|1.08"
   ]
  },
  {
   "cell_type": "markdown",
   "metadata": {},
   "source": [
    "|Classifier|Features|Accuracy|time|\n",
    "|-|-|-|-\n",
    "|CNN| 6-relu| 0.981|24.2\n",
    "|CNN| 8-sigmoid| 0.976|25.6"
   ]
  },
  {
   "cell_type": "markdown",
   "metadata": {},
   "source": [
    "## 4.3 comment"
   ]
  },
  {
   "cell_type": "markdown",
   "metadata": {},
   "source": [
    "> GMM is Too slow and the results are not good.\n",
    "\n",
    "> GMM 16  is overfetting the DCT features.\n",
    "\n",
    "> SVM is fast and accurate.\n",
    "\n",
    "> linear SVM training time with DCT takes alot of time.\n",
    "\n",
    "> RBF SVM shows the best results , combined with PCA features."
   ]
  },
  {
   "cell_type": "markdown",
   "metadata": {},
   "source": [
    "## 4.4 CNN comment"
   ]
  },
  {
   "cell_type": "markdown",
   "metadata": {},
   "source": [
    "> CNN classifier needed A powerful GPU (NVIDIA RTX 3060ti) to run comparatively in time to other Classifiers that run on CPU\n",
    ">> * this maybe considered as an advantage as it accelerates with parallelism while other classifiers don't\n",
    ">> * And it  maybe considered as a disadvantage for computational complexity and power consumption.\n",
    "\n",
    "\n",
    "> CNN classifier has the advantage of not needing a separate feature extraction as it may consume time to extract those features especially PCA and HOG.\n",
    ">> However DCT is too fast and provide good accuracy for little time.\n",
    "\n",
    "> CNN has the advantage of accuracy increasing with time by iterating the data set more, which is great considering it already has the best accuracy with the single dataset iteration (batch normalized).\n",
    "\n",
    "> Increasing the complexity by sigmoid and extra filters to the original LeNet is useless and didn't add adventage to time or accuracy. "
   ]
  },
  {
   "cell_type": "code",
   "execution_count": null,
   "metadata": {},
   "outputs": [],
   "source": []
  }
 ],
 "metadata": {
  "kernelspec": {
   "display_name": "Python 3",
   "language": "python",
   "name": "python3"
  },
  "language_info": {
   "codemirror_mode": {
    "name": "ipython",
    "version": 3
   },
   "file_extension": ".py",
   "mimetype": "text/x-python",
   "name": "python",
   "nbconvert_exporter": "python",
   "pygments_lexer": "ipython3",
   "version": "3.9.5"
  }
 },
 "nbformat": 4,
 "nbformat_minor": 4
}
