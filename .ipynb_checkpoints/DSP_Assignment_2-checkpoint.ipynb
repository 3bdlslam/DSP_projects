{
 "cells": [
  {
   "cell_type": "markdown",
   "metadata": {},
   "source": [
    "<center> <h1>Assignment #2</h1> </center>\n",
    "<center> <h2>DSP</h2> </center>\n"
   ]
  },
  {
   "cell_type": "markdown",
   "metadata": {},
   "source": [
    "| Name | Section | B.N. |\n",
    "|: ----------- | :--- | :--- |\n",
    "| Ahmed Abdelsalam AbdelKhalek | 1 | 16 |\n",
    "| Omar Magdy Mohammed Ahmed | 3 | 10 |\n",
    "| Amr Adel Ahmed Okasha | 3 | 13 |"
   ]
  },
  {
   "cell_type": "code",
   "execution_count": 1,
   "metadata": {},
   "outputs": [],
   "source": [
    "from skimage.io import imread, imshow\n",
    "from skimage.filters import prewitt_h,prewitt_v\n",
    "import os\n",
    "from os import listdir\n",
    "import numpy as np \n",
    "from matplotlib import pyplot as plt\n",
    "import pandas as pd    \n",
    "from scipy.fft import dct\n",
    "from sklearn.decomposition import PCA\n",
    "import numpy as np\n",
    "from sklearn.metrics import accuracy_score\n",
    "from scipy.stats import mode\n",
    "from scipy.fft import dct\n",
    "from sklearn.decomposition import PCA\n",
    "import numpy as np\n",
    "from sklearn.cluster import KMeans\n",
    "import numpy as np\n",
    "from sklearn import mixture\n",
    "from sklearn import svm\n",
    "from skimage.feature import hog\n",
    "from skimage import data, exposure\n",
    "import cv2\n",
    "import time\n",
    "from sklearn.metrics import confusion_matrix\n"
   ]
  },
  {
   "cell_type": "markdown",
   "metadata": {},
   "source": [
    "# 1. Data Loading"
   ]
  },
  {
   "cell_type": "code",
   "execution_count": 2,
   "metadata": {},
   "outputs": [
    {
     "name": "stdout",
     "output_type": "stream",
     "text": [
      "(10000, 28, 28)\n",
      "(2000, 28, 28)\n"
     ]
    }
   ],
   "source": [
    "x_tst=[]\n",
    "y_tst=[]                      \n",
    "#TST_PATH = r'D:\\4th year\\4th_2ndterm\\DSP\\projects\\Assignment 2\\Reduced MNIST Data\\Reduced Testing data' ## windows\n",
    "TST_PATH = r'Reduced MNIST Data/Reduced Testing data' ## linux\n",
    "\n",
    "for digit in listdir(TST_PATH):\n",
    "    #for ex in listdir(TST_PATH+'\\\\'+digit):\n",
    "        #x_tst.append(imread(TST_PATH+'\\\\'+digit+'\\\\'+ex))\n",
    "    for ex in listdir(TST_PATH+'/'+digit):\n",
    "        x_tst.append(imread(TST_PATH+'/'+digit+'/'+ex))\n",
    "        y_tst.append(digit)\n",
    "x_tst=np.asarray(x_tst)\n",
    "y_tst=np.asarray(y_tst)\n",
    "\n",
    "x_train=[]\n",
    "y_train=[]\n",
    "#TRAIN_PATH = r'D:\\4th year\\4th_2ndterm\\DSP\\projects\\Assignment 2\\Reduced MNIST Data\\Reduced Trainging data' ## windows\n",
    "TRAIN_PATH = r'Reduced MNIST Data/Reduced Trainging data' ## linux\n",
    "for digit in listdir(TRAIN_PATH):\n",
    "    #for ex in listdir(TRAIN_PATH+'\\\\'+digit):\n",
    "        #x_train.append(imread(TRAIN_PATH+'\\\\'+digit+'\\\\'+ex))\n",
    "    for ex in listdir(TRAIN_PATH+'/'+digit):\n",
    "        x_train.append(imread(TRAIN_PATH+'/'+digit+'/'+ex))\n",
    "        y_train.append(digit)\n",
    "x_train=np.asarray(x_train).reshape((10000,28,28))\n",
    "print(x_train.shape) \n",
    "x_tst=np.asarray(x_tst).reshape((2000,28,28))\n",
    "print(x_tst.shape)\n",
    "y_train=np.asarray(y_train).astype(int)\n",
    "y_tst=np.asarray(y_tst).astype(int)"
   ]
  },
  {
   "cell_type": "markdown",
   "metadata": {},
   "source": [
    "# 2. Feature extraction\n",
    "## 2.1 DCT Feature extraction"
   ]
  },
  {
   "cell_type": "code",
   "execution_count": 3,
   "metadata": {},
   "outputs": [
    {
     "name": "stdout",
     "output_type": "stream",
     "text": [
      "(10000, 28, 28)\n",
      "(2000, 28, 28)\n",
      "(10000, 180)\n",
      "(2000, 180)\n"
     ]
    }
   ],
   "source": [
    "dct_train_data = dct(dct(x_train, axis=1), axis=2)\n",
    "dct_tst_data = dct(dct(x_tst, axis=1), axis=2)\n",
    "print(dct_train_data.shape)\n",
    "print(dct_tst_data.shape)\n",
    "\n",
    "rows=28\n",
    "columns=28\n",
    "dct_train_data_compressed=np.empty((10000,180))\n",
    "solution=[]\n",
    "for k in range(10000):    \n",
    "    solution=[]\n",
    "    for i in range(rows):\n",
    "        for j in range(columns):\n",
    "            if((i+j) < 19):\n",
    "                solution.append(dct_train_data[k, i, j])\n",
    "    dct_train_data_compressed[k]=np.asarray(solution[:-10])\n",
    "    \n",
    "print(dct_train_data_compressed.shape)\n",
    "\n",
    "dct_tst_data_compressed=np.empty((2000,180))\n",
    "for k in range(2000):    \n",
    "    solution=[]\n",
    "    for i in range(rows):\n",
    "        for j in range(columns):\n",
    "            if((i+j) < 19):\n",
    "                solution.append(dct_tst_data[k, i, j])\n",
    "    dct_tst_data_compressed[k]=np.asarray(solution[:-10])\n",
    "print(dct_tst_data_compressed.shape)\n",
    "x_train_dct=dct_train_data_compressed\n",
    "x_tst_dct=dct_tst_data_compressed\n"
   ]
  },
  {
   "cell_type": "markdown",
   "metadata": {},
   "source": [
    "## 2.2 PCA Feature extraction\n"
   ]
  },
  {
   "cell_type": "code",
   "execution_count": 4,
   "metadata": {},
   "outputs": [
    {
     "data": {
      "text/plain": [
       "0.9524924486863694"
      ]
     },
     "execution_count": 4,
     "metadata": {},
     "output_type": "execute_result"
    }
   ],
   "source": [
    "pca_breast = PCA(n_components=270)\n",
    "x_train_pca = pca_breast.fit_transform(x_train.reshape((10000,784)))\n",
    "x_tst_pca = pca_breast.transform(x_tst.reshape((2000,784)))\n",
    "sum(pca_breast.explained_variance_ratio_)"
   ]
  },
  {
   "cell_type": "markdown",
   "metadata": {},
   "source": [
    "## 2.3 HOG Feature extraction"
   ]
  },
  {
   "cell_type": "code",
   "execution_count": 5,
   "metadata": {},
   "outputs": [],
   "source": [
    "def HOG_(images):\n",
    "    feature_array=[]\n",
    "    for image in images:\n",
    "        ret, bw_img = cv2.threshold(image,127,255,cv2.THRESH_BINARY)\n",
    "        features, hog_img = hog(bw_img, orientations=8, pixels_per_cell=(6, 6), visualize=True, multichannel=False)\n",
    "\n",
    "        feature_array.append(features)\n",
    "    feature_array=np.asarray(feature_array)\n",
    "\n",
    "    return feature_array\n",
    "x_tst_edge=HOG_(x_tst)\n",
    "x_train_edge=HOG_(x_train)\n"
   ]
  },
  {
   "cell_type": "markdown",
   "metadata": {},
   "source": [
    "# 3. Classifiers\n",
    "## 3.1 K-Mean Classifier"
   ]
  },
  {
   "cell_type": "code",
   "execution_count": 6,
   "metadata": {},
   "outputs": [],
   "source": [
    "def KM(X,Y,Xt,Yt,n):\n",
    "    \n",
    "    t = time.time()\n",
    "\n",
    "    kmeans = KMeans(n_clusters=n, random_state=0).fit(X)\n",
    "    t_elapsed=time.time()-t\n",
    "    classes=kmeans.labels_\n",
    "    \n",
    "    labels = np.zeros_like(classes)\n",
    "    translation=np.zeros((n,1))\n",
    "    for i in range(n):\n",
    "        mask = (classes == i)\n",
    "        labels[mask] = mode(Y[mask])[0]\n",
    "        translation[i]=mode(Y[mask])[0]\n",
    "    \n",
    "    prediction =kmeans.predict(Xt)\n",
    "    for i in range(len(prediction)):\n",
    "        prediction[i]=translation[prediction[i]]\n",
    "     \n",
    "    accuarcy=accuracy_score(prediction, Yt)\n",
    "    train_accuarcy=accuracy_score(labels, Y)\n",
    "    \n",
    "    return train_accuarcy,accuarcy,t_elapsed"
   ]
  },
  {
   "cell_type": "code",
   "execution_count": 7,
   "metadata": {},
   "outputs": [
    {
     "name": "stdout",
     "output_type": "stream",
     "text": [
      "KM 10\n",
      "[pca_train, pca_tst,Time_elapsed] [0.6359, 0.6675, 5.390612602233887]\n",
      "[dct_train, dct_tst,Time_elapsed] [0.6309, 0.67, 10.567110300064087]\n",
      "[hog_train, hog_tst,Time_elapsed] [0.6885, 0.7045, 16.68747639656067]\n",
      "KM 40\n",
      "[pca_train, pca_tst,Time_elapsed] [0.8322, 0.8695, 4.5403077602386475]\n",
      "[dct_train, dct_tst,Time_elapsed] [0.7986, 0.836, 7.322735786437988]\n",
      "[hog_train, hog_tst,Time_elapsed] [0.8787, 0.894, 11.508890628814697]\n",
      "KM 160\n",
      "[pca_train, pca_tst,Time_elapsed] [0.9073, 0.9415, 8.03381872177124]\n",
      "[dct_train, dct_tst,Time_elapsed] [0.899, 0.924, 9.84739089012146]\n",
      "[hog_train, hog_tst,Time_elapsed] [0.9184, 0.934, 19.377877950668335]\n"
     ]
    }
   ],
   "source": [
    "[acc_KM_10_pca_train,acc_KM_10_pca_tst,time_KM_10_pca_train]=KM(x_train_pca,y_train,x_tst_pca,y_tst,10) \n",
    "[acc_KM_40_pca_train,acc_KM_40_pca_tst,time_KM_40_pca_train]=KM(x_train_pca,y_train,x_tst_pca,y_tst,40)\n",
    "[acc_KM_160_pca_train,acc_KM_160_pca_tst,time_KM_160_pca_train]=KM(x_train_pca,y_train,x_tst_pca,y_tst,160)\n",
    "\n",
    "[acc_KM_10_dct_train,acc_KM_10_dct_tst,time_KM_10_dct_train]=KM(x_train_dct,y_train,x_tst_dct,y_tst,10) \n",
    "[acc_KM_40_dct_train,acc_KM_40_dct_tst,time_KM_40_dct_train]=KM(x_train_dct,y_train,x_tst_dct,y_tst,40)\n",
    "[acc_KM_160_dct_train,acc_KM_160_dct_tst,time_KM_160_dct_train]=KM(x_train_dct,y_train,x_tst_dct,y_tst,160)\n",
    "\n",
    "[acc_KM_10_edge_train,acc_KM_10_edge_tst,time_KM_10_edge_train]=KM(x_train_edge,y_train,x_tst_edge,y_tst,10) \n",
    "[acc_KM_40_edge_train,acc_KM_40_edge_tst,time_KM_40_edge_train]=KM(x_train_edge,y_train,x_tst_edge,y_tst,40) \n",
    "[acc_KM_160_edge_train,acc_KM_160_edge_tst,time_KM_160_edge_train]=KM(x_train_edge,y_train,x_tst_edge,y_tst,160) \n",
    "\n",
    "print('KM 10')\n",
    "print('[pca_train, pca_tst,Time_elapsed]',[acc_KM_10_pca_train,acc_KM_10_pca_tst,time_KM_10_pca_train])\n",
    "print('[dct_train, dct_tst,Time_elapsed]',[acc_KM_10_dct_train,acc_KM_10_dct_tst,time_KM_40_pca_train])\n",
    "print('[hog_train, hog_tst,Time_elapsed]',[acc_KM_10_edge_train,acc_KM_10_edge_tst,time_KM_160_pca_train])\n",
    "\n",
    "print('KM 40')\n",
    "print('[pca_train, pca_tst,Time_elapsed]',[acc_KM_40_pca_train,acc_KM_40_pca_tst,time_KM_10_dct_train])\n",
    "print('[dct_train, dct_tst,Time_elapsed]',[acc_KM_40_dct_train,acc_KM_40_dct_tst,time_KM_40_dct_train])\n",
    "print('[hog_train, hog_tst,Time_elapsed]',[acc_KM_40_edge_train,acc_KM_40_edge_tst,time_KM_160_dct_train])\n",
    "\n",
    "print('KM 160')\n",
    "print('[pca_train, pca_tst,Time_elapsed]',[acc_KM_160_pca_train,acc_KM_160_pca_tst,time_KM_10_edge_train])\n",
    "print('[dct_train, dct_tst,Time_elapsed]',[acc_KM_160_dct_train,acc_KM_160_dct_tst,time_KM_40_edge_train])\n",
    "print('[hog_train, hog_tst,Time_elapsed]',[acc_KM_160_edge_train,acc_KM_160_edge_tst,time_KM_160_edge_train])\n"
   ]
  },
  {
   "cell_type": "markdown",
   "metadata": {},
   "source": [
    "## 3.2 GMM Classifier"
   ]
  },
  {
   "cell_type": "code",
   "execution_count": 8,
   "metadata": {},
   "outputs": [
    {
     "name": "stdout",
     "output_type": "stream",
     "text": [
      "step\n",
      "step\n",
      "step\n",
      "step\n",
      "step\n",
      "step\n",
      "step\n",
      "step\n",
      "GMM 10\n",
      "[pca_train, pca_tst,Time_elapsed] [0.6716, 0.6645, 112.96158790588379]\n",
      "[dct_train, dct_tst,Time_elapsed] [0.5122, 0.542, 54.96233606338501]\n",
      "[hog_train, hog_tst,Time_elapsed] [0.5417, 0.5205, 231.26625418663025]\n",
      "GMM 40\n",
      "[pca_train, pca_tst,Time_elapsed] [0.8309, 0.3515, 114.95116305351257]\n",
      "[dct_train, dct_tst,Time_elapsed] [0.8049, 0.739, 182.71112275123596]\n",
      "[hog_train, hog_tst,Time_elapsed] [0.8662, 0.8475, 185.6439332962036]\n",
      "GMM 160\n",
      "[pca_train, pca_tst,Time_elapsed] [0.9113, 0.9275, 133.89105892181396]\n",
      "[dct_train, dct_tst,Time_elapsed] [0.904, 0.181, 582.4952161312103]\n",
      "[hog_train, hog_tst,Time_elapsed] [0.9143, 0.745, 917.7835614681244]\n"
     ]
    }
   ],
   "source": [
    "def GM(X,Y,Xt,Yt,n):\n",
    "    \n",
    "    t = time.time()\n",
    "\n",
    "    gmm = mixture.GaussianMixture(n_components=n).fit(X)\n",
    "    t_elapsed=time.time()-t\n",
    "    classes=gmm.predict(X)\n",
    "\n",
    "    labels = np.zeros_like(classes)\n",
    "    translation=np.zeros((n,1))\n",
    "    for i in range(n):\n",
    "        mask = (classes == i)\n",
    "        labels[mask] = mode(Y[mask])[0]\n",
    "        translation[i]=mode(Y[mask])[0]    \n",
    "    \n",
    "    prediction =gmm.predict(Xt)\n",
    "    for i in range(len(prediction)):\n",
    "        prediction[i]=translation[prediction[i]]\n",
    "    \n",
    "    accuarcy=accuracy_score(prediction, Yt)\n",
    "    train_accuarcy=accuracy_score(labels, Y)\n",
    "    \n",
    "    return train_accuarcy,accuarcy,t_elapsed\n",
    "\n",
    "[acc_GMM_10_pca_train,acc_GMM_10_pca_tst,time_GMM_10_pca_train]=GM(x_train_pca,y_train,x_tst_pca,y_tst,10) \n",
    "print('step')\n",
    "[acc_GMM_40_pca_train,acc_GMM_40_pca_tst,time_GMM_40_pca_train]=GM(x_train_pca,y_train,x_tst_pca,y_tst,40)\n",
    "print('step')\n",
    "[acc_GMM_160_pca_train,acc_GMM_160_pca_tst,time_GMM_160_pca_train]=GM(x_train_pca,y_train,x_tst_pca,y_tst,160)\n",
    "print('step')\n",
    "\n",
    "[acc_GMM_10_dct_train,acc_GMM_10_dct_tst,time_GMM_10_dct_train]=GM(x_train_dct,y_train,x_tst_dct,y_tst,10) \n",
    "print('step')\n",
    "[acc_GMM_40_dct_train,acc_GMM_40_dct_tst,time_GMM_40_dct_train]=GM(x_train_dct,y_train,x_tst_dct,y_tst,40)\n",
    "print('step')\n",
    "[acc_GMM_160_dct_train,acc_GMM_160_dct_tst,time_GMM_160_dct_train]=GM(x_train_dct,y_train,x_tst_dct,y_tst,160)\n",
    "print('step')\n",
    "\n",
    "[acc_GMM_10_edge_train,acc_GMM_10_edge_tst,time_GMM_10_edge_train]=GM(x_train_edge,y_train,x_tst_edge,y_tst,10)\n",
    "print('step')\n",
    "[acc_GMM_40_edge_train,acc_GMM_40_edge_tst,time_GMM_40_edge_train]=GM(x_train_edge,y_train,x_tst_edge,y_tst,40) \n",
    "print('step')\n",
    "[acc_GMM_160_edge_train,acc_GMM_160_edge_tst,time_GMM_160_edge_train]=GM(x_train_edge,y_train,x_tst_edge,y_tst,160) \n",
    "\n",
    "print('GMM 10')\n",
    "print('[pca_train, pca_tst,Time_elapsed]',[acc_GMM_10_pca_train,acc_GMM_10_pca_tst,time_GMM_10_pca_train])\n",
    "print('[dct_train, dct_tst,Time_elapsed]',[acc_GMM_10_dct_train,acc_GMM_10_dct_tst,time_GMM_40_pca_train])\n",
    "print('[hog_train, hog_tst,Time_elapsed]',[acc_GMM_10_edge_train,acc_GMM_10_edge_tst,time_GMM_160_pca_train])\n",
    "\n",
    "print('GMM 40')\n",
    "print('[pca_train, pca_tst,Time_elapsed]',[acc_GMM_40_pca_train,acc_GMM_40_pca_tst,time_GMM_10_dct_train])\n",
    "print('[dct_train, dct_tst,Time_elapsed]',[acc_GMM_40_dct_train,acc_GMM_40_dct_tst,time_GMM_40_dct_train])\n",
    "print('[hog_train, hog_tst,Time_elapsed]',[acc_GMM_40_edge_train,acc_GMM_40_edge_tst,time_GMM_160_dct_train])\n",
    "\n",
    "print('GMM 160')\n",
    "print('[pca_train, pca_tst,Time_elapsed]',[acc_GMM_160_pca_train,acc_GMM_160_pca_tst,time_GMM_10_edge_train])\n",
    "print('[dct_train, dct_tst,Time_elapsed]',[acc_GMM_160_dct_train,acc_GMM_160_dct_tst,time_GMM_40_edge_train])\n",
    "print('[hog_train, hog_tst,Time_elapsed]',[acc_GMM_160_edge_train,acc_GMM_160_edge_tst,time_GMM_160_edge_train])"
   ]
  },
  {
   "cell_type": "markdown",
   "metadata": {},
   "source": [
    "## 3.3 SVM Classifier"
   ]
  },
  {
   "cell_type": "code",
   "execution_count": 11,
   "metadata": {},
   "outputs": [
    {
     "name": "stdout",
     "output_type": "stream",
     "text": [
      "SVM_Linear\n",
      "[pca_train, pca_tst , time_elapsed] [1.0, 0.9365, 1.2775356769561768]\n",
      "[dct_train, dct_tst , time_elapsed] [0.9999, 0.9255, 84.0607213973999]\n",
      "[hog_train, hog_tst , time_elapsed] [0.9653, 0.967, 0.6734473705291748]\n",
      "SVM_RPF\n",
      "[pca_train, pca_tst , time_elapsed] [0.9932, 0.9775, 1.9179656505584717]\n",
      "[dct_train, dct_tst , time_elapsed] [0.9641, 0.9625, 1.1395618915557861]\n",
      "[hog_train, hog_tst , time_elapsed] [0.9764, 0.9745, 1.0660629272460938]\n"
     ]
    }
   ],
   "source": [
    "def SVM(X,Y,Xt,Yt,k):\n",
    "\n",
    "    clf = svm.SVC(kernel=k) # Linear Kernel\n",
    "    t = time.time()\n",
    "    clf.fit(X, Y)\n",
    "    t_elapsed=time.time()-t\n",
    "\n",
    "    labels = clf.predict(X)\n",
    "    y_pred = clf.predict(Xt)\n",
    "        \n",
    "    train_accuarcy = accuracy_score(Y, labels)\n",
    "    accuarcy = accuracy_score(Yt, y_pred)\n",
    "\n",
    "    return train_accuarcy,accuarcy,t_elapsed\n",
    "\n",
    "\n",
    "[acc_SVM_pca_train,acc_SVM_pca_tst,time_SVM_pca_train]=SVM(x_train_pca,y_train,x_tst_pca,y_tst,'linear') \n",
    "[acc_SVM_dct_train,acc_SVM_dct_tst,time_SVM_dct_train]=SVM(x_train_dct,y_train,x_tst_dct,y_tst,'linear') \n",
    "[acc_SVM_edge_train,acc_SVM_edge_tst,time_SVM_edge_train]=SVM(x_train_edge,y_train,x_tst_edge,y_tst,'linear') \n",
    "print('SVM_Linear')\n",
    "print('[pca_train, pca_tst , time_elapsed]',[acc_SVM_pca_train,acc_SVM_pca_tst,time_SVM_pca_train])\n",
    "print('[dct_train, dct_tst , time_elapsed]',[acc_SVM_dct_train,acc_SVM_dct_tst,time_SVM_dct_train])\n",
    "print('[hog_train, hog_tst , time_elapsed]',[acc_SVM_edge_train,acc_SVM_edge_tst,time_SVM_edge_train])\n",
    "\n",
    "[acc_SVM_pca_train_,acc_SVM_pca_tst_,time_SVM_pca_train_]=SVM(x_train_pca,y_train,x_tst_pca,y_tst,'rbf') \n",
    "[acc_SVM_dct_train_,acc_SVM_dct_tst_,time_SVM_dct_train_]=SVM(x_train_dct,y_train,x_tst_dct,y_tst,'rbf') \n",
    "[acc_SVM_edge_train_,acc_SVM_edge_tst_,time_SVM_edge_train_]=SVM(x_train_edge,y_train,x_tst_edge,y_tst,'rbf') \n",
    "print('SVM_RPF')\n",
    "print('[pca_train, pca_tst , time_elapsed]',[acc_SVM_pca_train_,acc_SVM_pca_tst_,time_SVM_pca_train_])\n",
    "print('[dct_train, dct_tst , time_elapsed]',[acc_SVM_dct_train_,acc_SVM_dct_tst_,time_SVM_dct_train_])\n",
    "print('[hog_train, hog_tst , time_elapsed]',[acc_SVM_edge_train_,acc_SVM_edge_tst_,time_SVM_edge_train_])"
   ]
  },
  {
   "cell_type": "markdown",
   "metadata": {},
   "source": [
    "# 4 Conclusion"
   ]
  },
  {
   "cell_type": "markdown",
   "metadata": {},
   "source": [
    "## 4.1 Confussion matrix of  SVM "
   ]
  },
  {
   "cell_type": "code",
   "execution_count": 10,
   "metadata": {},
   "outputs": [
    {
     "data": {
      "image/png": "[encoded data removed]",
      "text/plain": [
       "<Figure size 1584x1296 with 2 Axes>"
      ]
     },
     "metadata": {
      "needs_background": "light"
     },
     "output_type": "display_data"
    }
   ],
   "source": [
    "def conf_mat(test_y,y_pred,label_name):\n",
    "    \n",
    "    if(len(test_y.shape)==2):\n",
    "      test_y=np.asarray([test_y[i].argmax() for i in range(len(test_y))])\n",
    "    \n",
    "    if(len(y_pred.shape)==2):\n",
    "      y_pred=np.asarray([y_pred[i].argmax() for i in range(len(y_pred))])\n",
    "    \n",
    "    c=confusion_matrix(test_y,y_pred)\n",
    "    \n",
    "    \n",
    "    fig = plt.figure(figsize=[22,18])\n",
    "    import seaborn as sns\n",
    "    sns.heatmap(c, annot=True,annot_kws={\"size\": 20},xticklabels=label_name,yticklabels=label_name)\n",
    "\n",
    "clf = svm.SVC(kernel='rbf')\n",
    "clf.fit(x_train_pca, y_train)\n",
    "\n",
    "label_name=[\"0\",\"1\",\"2\",\"3\",\"4\",\"5\",\"6\",\"7\",\"8\",\"9\"]\n",
    "\n",
    "conf_mat(y_tst,  clf.predict(x_tst_pca),  label_name)"
   ]
  },
  {
   "cell_type": "markdown",
   "metadata": {},
   "source": [
    "## 4.2 Table Results"
   ]
  },
  {
   "cell_type": "markdown",
   "metadata": {},
   "source": [
    "|  ............    | ............ | ............ | ............   |............ | ............ | ............|............\n",
    "|-|-|-|-|-|-|-|-\n",
    "| .  |  . <td colspan=2>PCA   <td colspan=2>DCT <td colspan=2>HOG\n",
    "    \n",
    "|Classifier|Features|Accuracy|time|Accuracy|time|Accuracy|time\n",
    "|-|-|-|-|-|-|-|-\n",
    "|kmeans Clustering| 1| 0.67|5.39|0.6655|10.567|0.7040|16.6874\n",
    "|kmeans Clustering| 4| 0.87|4.54|0.836|7.323|0.894|11.508\n",
    "|kmeans Clustering| 16| 0.94|8.034|0.924|9.847|0.934|19.378\n",
    "|GMM| 1| 0.66|112.96|0.542|56.96|0.5205|231.26\n",
    "|GMM| 4| 0.3515|114.95|0.739|182.71|0.8475|185.64\n",
    "|GMM| 16| 0.9275|133.89|0.181|582.49|0.745|917.78\n",
    "|SVM| Linear| 0.9365|1.14|0.9255|83.79|0.967|0.69\n",
    "|SVM| RBF | 0.9775|1.957|0.9625|1.125|0.9745|1.08"
   ]
  },
  {
   "cell_type": "markdown",
   "metadata": {},
   "source": [
    "## 4.3 comment"
   ]
  },
  {
   "cell_type": "markdown",
   "metadata": {},
   "source": [
    "> GMM is Too slow and the results are not good.\n",
    "\n",
    "> GMM 16  is overfetting the DCT features.\n",
    "\n",
    "> SVM is fast and accurate.\n",
    "\n",
    "> linear SVM training time with DCT takes alot of time.\n",
    "\n",
    "> RBF SVM shows the best results , combined with PCA features."
   ]
  },
  {
   "cell_type": "code",
   "execution_count": null,
   "metadata": {},
   "outputs": [],
   "source": []
  }
 ],
 "metadata": {
  "kernelspec": {
   "display_name": "Python 3",
   "language": "python",
   "name": "python3"
  },
  "language_info": {
   "codemirror_mode": {
    "name": "ipython",
    "version": 3
   },
   "file_extension": ".py",
   "mimetype": "text/x-python",
   "name": "python",
   "nbconvert_exporter": "python",
   "pygments_lexer": "ipython3",
   "version": "3.9.5"
  }
 },
 "nbformat": 4,
 "nbformat_minor": 4
}
